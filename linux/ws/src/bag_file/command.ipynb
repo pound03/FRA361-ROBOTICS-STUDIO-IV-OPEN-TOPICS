{
 "cells": [
  {
   "cell_type": "code",
   "execution_count": 1,
   "metadata": {},
   "outputs": [
    {
     "name": "stdout",
     "output_type": "stream",
     "text": [
      "\u001b[0m[INFO] [1682365241.588615259] [rosbag2_storage]: Opened database 'use/use_0.db3' for READ_WRITE.\u001b[0m\n",
      "\u001b[0m[INFO] [1682365241.595990039] [rosbag2_transport]: Listening for topics...\u001b[0m\n",
      "\u001b[0m[INFO] [1682365241.697798950] [rosbag2_transport]: Subscribed to topic '/camera/color/image_raw'\u001b[0m\n",
      "\u001b[0m[INFO] [1682365241.701517899] [rosbag2_transport]: Subscribed to topic '/camera/depth/image_rect_raw'\u001b[0m\n",
      "\u001b[0m[INFO] [1682365241.701537419] [rosbag2_transport]: All requested topics are subscribed. Stopping discovery...\u001b[0m\n",
      "^C\n",
      "\u001b[0m[INFO] [1682365271.912504804] [rclcpp]: signal_handler(signal_value=2)\u001b[0m\n"
     ]
    }
   ],
   "source": [
    "!ros2 bag record -o use /camera/color/image_raw /camera/depth/image_rect_raw"
   ]
  },
  {
   "cell_type": "code",
   "execution_count": 10,
   "metadata": {},
   "outputs": [
    {
     "name": "stdout",
     "output_type": "stream",
     "text": [
      "\u001b[0m[INFO] [1682352758.663872833] [rosbag2_storage]: Opened database 'camera_fake2/camera_fake2_0.db3' for READ_WRITE.\u001b[0m\n",
      "\u001b[0m[INFO] [1682352759.020115502] [rosbag2_transport]: Listening for topics...\u001b[0m\n",
      "\u001b[0m[INFO] [1682352759.023829236] [rosbag2_transport]: Subscribed to topic '/camera/depth/image_rect_raw/fake'\u001b[0m\n",
      "\u001b[0m[INFO] [1682352759.025419272] [rosbag2_transport]: Subscribed to topic '/camera/color/image_raw/fake'\u001b[0m\n",
      "\u001b[0m[INFO] [1682352759.026160904] [rosbag2_transport]: All requested topics are subscribed. Stopping discovery...\u001b[0m\n",
      "^C\n",
      "\u001b[0m[INFO] [1682352788.813267044] [rclcpp]: signal_handler(signal_value=2)\u001b[0m\n"
     ]
    }
   ],
   "source": [
    "!ros2 bag record -o camera_fake2 /camera/color/image_raw/fake /camera/depth/image_rect_raw/fake"
   ]
  },
  {
   "cell_type": "code",
   "execution_count": null,
   "metadata": {},
   "outputs": [],
   "source": [
    "!ros2 bag record /turtle1/cmd_vel"
   ]
  },
  {
   "cell_type": "code",
   "execution_count": null,
   "metadata": {},
   "outputs": [],
   "source": [
    "!ros2 bag play turtule_run"
   ]
  }
 ],
 "metadata": {
  "kernelspec": {
   "display_name": "Python 3",
   "language": "python",
   "name": "python3"
  },
  "language_info": {
   "codemirror_mode": {
    "name": "ipython",
    "version": 3
   },
   "file_extension": ".py",
   "mimetype": "text/x-python",
   "name": "python",
   "nbconvert_exporter": "python",
   "pygments_lexer": "ipython3",
   "version": "3.8.10"
  },
  "orig_nbformat": 4
 },
 "nbformat": 4,
 "nbformat_minor": 2
}
