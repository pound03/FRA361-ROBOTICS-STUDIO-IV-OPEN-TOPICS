{
 "cells": [
  {
   "cell_type": "code",
   "execution_count": 3,
   "metadata": {},
   "outputs": [
    {
     "name": "stdout",
     "output_type": "stream",
     "text": [
      "\u001b[0m[INFO] [1683534335.065908446] [rosbag2_storage]: Opened database 'test8/test8_0.db3' for READ_WRITE.\u001b[0m\n",
      "\u001b[0m[INFO] [1683534335.085643272] [rosbag2_transport]: Listening for topics...\u001b[0m\n",
      "\u001b[0m[INFO] [1683534335.087043596] [rosbag2_transport]: Subscribed to topic '/camera/depth/image_rect_raw'\u001b[0m\n",
      "\u001b[0m[INFO] [1683534335.087819061] [rosbag2_transport]: Subscribed to topic '/camera/color/image_raw'\u001b[0m\n",
      "\u001b[0m[INFO] [1683534335.088137909] [rosbag2_transport]: All requested topics are subscribed. Stopping discovery...\u001b[0m\n",
      "^C\n",
      "\u001b[0m[INFO] [1683534581.979459303] [rclcpp]: signal_handler(signal_value=2)\u001b[0m\n"
     ]
    }
   ],
   "source": [
    "!ros2 bag record -o test8 /camera/color/image_raw /camera/depth/image_rect_raw"
   ]
  },
  {
   "cell_type": "code",
   "execution_count": 2,
   "metadata": {},
   "outputs": [
    {
     "name": "stdout",
     "output_type": "stream",
     "text": [
      "usage: ros2 [-h] Call `ros2 <command> -h` for more detailed usage. ...\n",
      "ros2: error: unrecognized arguments: -d\n"
     ]
    }
   ],
   "source": [
    "!ros2 bag record -a -d 10"
   ]
  },
  {
   "cell_type": "code",
   "execution_count": null,
   "metadata": {},
   "outputs": [],
   "source": [
    "# !ros2 bag record -o camera /camera/depth/camera_info"
   ]
  },
  {
   "cell_type": "code",
   "execution_count": null,
   "metadata": {},
   "outputs": [],
   "source": [
    "!ros2 bag play camera"
   ]
  },
  {
   "cell_type": "code",
   "execution_count": null,
   "metadata": {},
   "outputs": [],
   "source": [
    "!ros2 bag play test1"
   ]
  },
  {
   "cell_type": "code",
   "execution_count": null,
   "metadata": {},
   "outputs": [],
   "source": [
    "!ros2 bag record -o camera_fake2 /camera/color/image_raw/fake /camera/depth/image_rect_raw/fake"
   ]
  },
  {
   "cell_type": "code",
   "execution_count": null,
   "metadata": {},
   "outputs": [],
   "source": [
    "!ros2 bag record /turtle1/cmd_vel"
   ]
  },
  {
   "cell_type": "code",
   "execution_count": null,
   "metadata": {},
   "outputs": [],
   "source": [
    "!ros2 bag play turtule_run"
   ]
  },
  {
   "cell_type": "code",
   "execution_count": null,
   "metadata": {},
   "outputs": [],
   "source": [
    "#!/usr/bin/python3\n",
    "import cv2\n",
    "import os\n",
    "\n",
    "image_folder = 'bag_file'\n",
    "video_name = 'video.avi'\n",
    "\n",
    "images = [img for img in os.listdir(image_folder) if img.endswith(\".png\")]\n",
    "\n",
    "images.sort()"
   ]
  },
  {
   "cell_type": "code",
   "execution_count": null,
   "metadata": {},
   "outputs": [],
   "source": [
    "frame = cv2.imread(os.path.join(image_folder, images[0]))\n",
    "height, width, layers = frame.shape\n",
    "\n",
    "video = cv2.VideoWriter(video_name, 0, 1, (width,height))\n",
    "\n",
    "for image in images:\n",
    "    video.write(cv2.imread(os.path.join(image_folder, image)))"
   ]
  }
 ],
 "metadata": {
  "kernelspec": {
   "display_name": "Python 3",
   "language": "python",
   "name": "python3"
  },
  "language_info": {
   "codemirror_mode": {
    "name": "ipython",
    "version": 3
   },
   "file_extension": ".py",
   "mimetype": "text/x-python",
   "name": "python",
   "nbconvert_exporter": "python",
   "pygments_lexer": "ipython3",
   "version": "3.8.10"
  },
  "orig_nbformat": 4
 },
 "nbformat": 4,
 "nbformat_minor": 2
}
